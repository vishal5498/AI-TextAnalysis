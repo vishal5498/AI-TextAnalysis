{
 "cells": [
  {
   "cell_type": "markdown",
   "metadata": {},
   "source": [
    "# Introduction\n",
    "In this worksheet we will write functions to implement evaluation metrics for classification and regression problems. We will:\n",
    " - Use library functions from scikit-learn (https://scikit-learn.org/stable/)\n",
    " - Use NumPy and matplotlib\n",
    " - Write and call functions in Python\n",
    " - Gain understanding of the evaluation metrics used.\n",
    "\n",
    "\n",
    "Scikit-learn (https://scikit-learn.org/stable/) is a Python library with a wide range of ML algorithms. We will be using some of these algorithms during this course, but we will also be looking at the principles behind the algorithms in order to understand these rather than simply applying functions from libraries."
   ]
  },
  {
   "cell_type": "markdown",
   "metadata": {},
   "source": [
    "# 0. Preliminaries\n",
    "We firstly import NumPy and matplotlib as we will be using these throughout the worksheet. We use a 'magic' function `%matplotlib inline` to display plots in the worksheet."
   ]
  },
  {
   "cell_type": "code",
   "execution_count": 29,
   "metadata": {},
   "outputs": [],
   "source": [
    "import numpy as np\n",
    "import matplotlib.pyplot as plt\n",
    "%matplotlib inline"
   ]
  },
  {
   "cell_type": "markdown",
   "metadata": {},
   "source": [
    "# 1. Classification\n",
    "In this question we will use a toy dataset from scikit-learn. We will use functions from scikit-learn to load the data, divide it into training and testing sets, and then fit a simple classifier to the training set. We will then write functions to calculate accuracy, precision, and recall. Finally, we will check your functions against the functions from scikit-learn.\n",
    "\n",
    "## Part a) Load the data"
   ]
  },
  {
   "cell_type": "code",
   "execution_count": 30,
   "metadata": {},
   "outputs": [],
   "source": [
    "# scikit-learn comes with a number of toy datasets (https://sklearn.org/datasets/index.html#toy-datasets)\n",
    "from sklearn import datasets\n",
    "\n",
    "# Load the wine dataset from sklearn. You may want to take a look at the format of the dataset\n",
    "wine = datasets.load_wine()\n",
    "\n",
    "# Save the datapoints into the variable X and the targets into the variable y\n",
    "X = wine.data\n",
    "y = wine.target"
   ]
  },
  {
   "cell_type": "code",
   "execution_count": 31,
   "metadata": {},
   "outputs": [
    {
     "name": "stdout",
     "output_type": "stream",
     "text": [
      "[[1.423e+01 1.710e+00 2.430e+00 ... 1.040e+00 3.920e+00 1.065e+03]\n",
      " [1.320e+01 1.780e+00 2.140e+00 ... 1.050e+00 3.400e+00 1.050e+03]\n",
      " [1.316e+01 2.360e+00 2.670e+00 ... 1.030e+00 3.170e+00 1.185e+03]\n",
      " ...\n",
      " [1.327e+01 4.280e+00 2.260e+00 ... 5.900e-01 1.560e+00 8.350e+02]\n",
      " [1.317e+01 2.590e+00 2.370e+00 ... 6.000e-01 1.620e+00 8.400e+02]\n",
      " [1.413e+01 4.100e+00 2.740e+00 ... 6.100e-01 1.600e+00 5.600e+02]]\n"
     ]
    }
   ],
   "source": [
    "print(X)"
   ]
  },
  {
   "cell_type": "markdown",
   "metadata": {},
   "source": [
    "Take a look at the target values in y. We notice that there are 3 dicrete values of the output meaning that we will use a classification algorithm for this problem rather than a regression, which would be suitable for continuous numerical values."
   ]
  },
  {
   "cell_type": "code",
   "execution_count": 32,
   "metadata": {},
   "outputs": [
    {
     "name": "stdout",
     "output_type": "stream",
     "text": [
      "[0 0 0 0 0 0 0 0 0 0 0 0 0 0 0 0 0 0 0 0 0 0 0 0 0 0 0 0 0 0 0 0 0 0 0 0 0\n",
      " 0 0 0 0 0 0 0 0 0 0 0 0 0 0 0 0 0 0 0 0 0 0 1 1 1 1 1 1 1 1 1 1 1 1 1 1 1\n",
      " 1 1 1 1 1 1 1 1 1 1 1 1 1 1 1 1 1 1 1 1 1 1 1 1 1 1 1 1 1 1 1 1 1 1 1 1 1\n",
      " 1 1 1 1 1 1 1 1 1 1 1 1 1 1 1 1 1 1 1 2 2 2 2 2 2 2 2 2 2 2 2 2 2 2 2 2 2\n",
      " 2 2 2 2 2 2 2 2 2 2 2 2 2 2 2 2 2 2 2 2 2 2 2 2 2 2 2 2 2 2]\n"
     ]
    }
   ],
   "source": [
    "#  Look at the values in y\n",
    "print(y)"
   ]
  },
  {
   "cell_type": "markdown",
   "metadata": {},
   "source": [
    "## Part b) Divide the data into training and testing sets\n",
    "Use the function `train_test_split` from `sklearn.model_selection` to split out the data and targets into training and testing sets."
   ]
  },
  {
   "cell_type": "code",
   "execution_count": 33,
   "metadata": {},
   "outputs": [],
   "source": [
    "# We import the function train_test_split from sklearn and use this to split the data\n",
    "from sklearn.model_selection import train_test_split\n",
    "\n",
    "# The function returns splits of each array passed in. \n",
    "# The proportion to be used as the training set is given by test_size\n",
    "X_train, X_test, y_train, y_test = train_test_split(X, y, test_size=0.2)"
   ]
  },
  {
   "cell_type": "markdown",
   "metadata": {},
   "source": [
    "## Part c) Import the k-nearest neighbours classifier and run it on the data\n",
    "Scikit-learn has a huge range of *estimators* that you can use with your dataset. An estimator is any procedure that can be used to fit data and make predictions from it. Here we will import the k-nearest neighbours classifier, instantiate it, run it on our training set, and then use it to generate some predictions. You will learn more about k-nearest neighbours in Week 14. For now, we are simply using it to generate some predictions.\n",
    "\n",
    "The general procedure for using the estimators in scikit-learn is as follows. Every estimator has a method `fit(X, y)` and a method `predict(T)`. \n",
    "\n",
    "1) Import the estimator\n",
    "    e.g. `from sklearn.models import Classifier`\n",
    "    \n",
    "2) Instantiate the estimator to a variable\n",
    "    e.g. `est = Classifier(hparams)`\n",
    "    \n",
    "3) Fit the estimator to the data\n",
    "    e.g. `est.fit(X, y)`\n",
    "    \n",
    "4) Make a prediction\n",
    "    e.g. `predictions = est.predict(test_data)`\n",
    "    \n",
    "You can see an example of this in the code below:"
   ]
  },
  {
   "cell_type": "code",
   "execution_count": 34,
   "metadata": {
    "scrolled": true
   },
   "outputs": [],
   "source": [
    "# We first import the classifier\n",
    "from sklearn.neighbors import KNeighborsClassifier\n",
    "\n",
    "# We instantiate the classifier with 5 neighbours\n",
    "knn = KNeighborsClassifier(n_neighbors=5)\n",
    "\n",
    "# We fit the model using our training data\n",
    "knn.fit(X_train, y_train)\n",
    "\n",
    "# Finally, we generate predictions on the test data\n",
    "ypred_test=knn.predict(X_test)"
   ]
  },
  {
   "cell_type": "markdown",
   "metadata": {},
   "source": [
    "## Part d) Evaluating the classifier\n",
    "In this section we will implement functions for accuracy, precision and recall, and compare them with the functions given in sklearn (they should give the same results!)\n",
    "\n",
    "The wine dataset has 3 classes. We will write functions to compute the accuracy of the classifer, the macro-averaged precision and the macro-averaged recall.\n",
    "\n",
    "Recall the equations for accuracy, precision, and recall:\n",
    "\n",
    "$$Accuracy = \\frac{\\text{Number correct}}{\\text{Total datapoints}}$$\n",
    "i.e. the number of correctly classified datapoints as a proportion of all $n$ datapoints\n",
    "\n",
    "$$Precision_c = \\frac{TP_c}{TP_c+FP_c}$$\n",
    "i.e. the precision for class $c$ is the number of true positives for class $c$ as a proportion of the total number of positive predictions for class $c$\n",
    "\n",
    "$$Recall_c = \\frac{TP_c}{TP_c+FN_c}$$\n",
    "i.e. the recall for class $c$ is the number of true positives for class $c$ as a proportion of the total number of actual positives for class $c$\n",
    "\n",
    "The macro-averaged precision and macro-averaged recall are then simply calculated by averaging the precision (or recall) for each class:\n",
    "\n",
    "$$Precision = \\frac{1}{k} \\sum_{c = 1}^k Precision_c, \\quad Recall = \\frac{1}{k} \\sum_{c = 1}^k Recall_c$$\n",
    "\n",
    "We can automatically generate the confusion matrix for our data using the function `confusion_matrix` from `sklearn.metrics`"
   ]
  },
  {
   "cell_type": "code",
   "execution_count": 35,
   "metadata": {},
   "outputs": [],
   "source": [
    "# Import the function confusion_matrix\n",
    "from sklearn.metrics import confusion_matrix\n",
    "\n",
    "#Build the confusion matrix from the target test set y_test and our predicted values ypred_test\n",
    "cm = confusion_matrix(y_test, ypred_test)"
   ]
  },
  {
   "cell_type": "markdown",
   "metadata": {},
   "source": [
    "Take a look at the confusion matrix. Since there are 3 possible classifications, we see that the dimensions of the confusion matrix are 3x3."
   ]
  },
  {
   "cell_type": "code",
   "execution_count": 36,
   "metadata": {},
   "outputs": [
    {
     "name": "stdout",
     "output_type": "stream",
     "text": [
      "[[11  0  0]\n",
      " [ 1 11  1]\n",
      " [ 1  6  5]]\n"
     ]
    }
   ],
   "source": [
    "# Look at the confusion matrix cm\n",
    "print(cm)"
   ]
  },
  {
   "cell_type": "code",
   "execution_count": 37,
   "metadata": {},
   "outputs": [
    {
     "name": "stdout",
     "output_type": "stream",
     "text": [
      "75.0\n"
     ]
    }
   ],
   "source": [
    "def my_accuracy(y, pred):\n",
    "    countcorrect = 0\n",
    "    for i in range(0,len(cm)):\n",
    "        countcorrect=countcorrect+cm[i][i]\n",
    "    acc=countcorrect/len(y)\n",
    "    return acc\n",
    "print(round(my_accuracy(y_test,ypred_test),4)*100)"
   ]
  },
  {
   "cell_type": "code",
   "execution_count": 54,
   "metadata": {},
   "outputs": [
    {
     "name": "stdout",
     "output_type": "stream",
     "text": [
      "84.61538461538461\n"
     ]
    }
   ],
   "source": [
    "def my_recall_macro(y, pred):\n",
    "    recalls = []\n",
    "    cm = confusion_matrix(y, pred)\n",
    "    for i in range(len(cm)):\n",
    "        tp = cm[i, i]\n",
    "        fn = np.sum(cm[:, i]) - tp\n",
    "        recall = tp / (tp + fn) if (tp + fn) > 0 else 0\n",
    "        recalls.append(recall)\n",
    "        return np.mean(recalls)\n",
    "print(my_recall_macro(y_test,ypred_test)*100)"
   ]
  },
  {
   "cell_type": "code",
   "execution_count": 55,
   "metadata": {},
   "outputs": [
    {
     "name": "stdout",
     "output_type": "stream",
     "text": [
      "77.55\n"
     ]
    }
   ],
   "source": [
    "from sklearn.metrics import precision_score\n",
    "def my_precision_macro(y, pred):\n",
    "    classes = np.unique(y)\n",
    "    precisions = []\n",
    "\n",
    "    for cls in classes:\n",
    "        true_positives = np.sum((y == cls) & (pred == cls))\n",
    "        predicted_positives = np.sum(pred == cls)\n",
    "\n",
    "        # Avoid division by zero\n",
    "        precision = true_positives / predicted_positives if predicted_positives > 0 else 0\n",
    "        precisions.append(precision)\n",
    "\n",
    "    macro_precision = np.mean(precisions)\n",
    "    return macro_precision\n",
    "print(round(my_precision_macro(y_test,ypred_test),4)*100)"
   ]
  },
  {
   "cell_type": "code",
   "execution_count": 56,
   "metadata": {},
   "outputs": [
    {
     "data": {
      "text/plain": [
       "True"
      ]
     },
     "execution_count": 56,
     "metadata": {},
     "output_type": "execute_result"
    }
   ],
   "source": [
    "from sklearn.metrics import precision_score, recall_score, accuracy_score\n",
    "my_accuracy(y_test, ypred_test) == accuracy_score(y_test, ypred_test)"
   ]
  },
  {
   "cell_type": "code",
   "execution_count": 59,
   "metadata": {},
   "outputs": [
    {
     "name": "stdout",
     "output_type": "stream",
     "text": [
      "0.7542735042735043\n"
     ]
    }
   ],
   "source": [
    "my_recall_macro(y_test, ypred_test)==recall_score(y_test, ypred_test, average='macro')"
   ]
  },
  {
   "cell_type": "code",
   "execution_count": 58,
   "metadata": {},
   "outputs": [
    {
     "data": {
      "text/plain": [
       "True"
      ]
     },
     "execution_count": 58,
     "metadata": {},
     "output_type": "execute_result"
    }
   ],
   "source": [
    "my_precision_macro(y_test, ypred_test)==precision_score(y_test, ypred_test, average='macro')\n"
   ]
  },
  {
   "cell_type": "markdown",
   "metadata": {},
   "source": [
    "# 2. Regression\n",
    "\n",
    "In this question we will use sklearn to fit a linear model to some artificial data. You will then implement a function to calculate the mean squared error and a function to calculate $r^2$.\n",
    "\n",
    "The model we fit is just a line, i.e. $y = ax + b$. \n",
    "\n",
    "## Part a) Create an artificial dataset\n",
    "We start off by creating some artificial data that is a line with some noise added."
   ]
  },
  {
   "cell_type": "code",
   "execution_count": 60,
   "metadata": {},
   "outputs": [],
   "source": [
    "# We set up a random number generator (rng), seeded with a number (in this case 10). \n",
    "# Using a seed means we can generate the same sequence of pseudorandom numbers, and so we can check results easily.\n",
    "rng = np.random.default_rng(10) \n",
    "\n",
    "# a and b are coefficients for the line\n",
    "a = 2\n",
    "b = -1\n",
    "\n",
    "# Use np.linspace to generate datapoints from 0 to 10 (inclusive) spaced at 0.1\n",
    "X = np.linspace(0, 10, 101) \n",
    "\n",
    "# Create data Y using the equation for a line\n",
    "Y = a*X + b\n",
    "\n",
    "# Adds Gaussian noise with mean 0 and standard deviation 3 to the data\n",
    "Y = Y + 3*rng.standard_normal(len(Y)) "
   ]
  },
  {
   "cell_type": "markdown",
   "metadata": {},
   "source": [
    "## Part b) Plot the data on named axes"
   ]
  },
  {
   "cell_type": "code",
   "execution_count": 61,
   "metadata": {},
   "outputs": [
    {
     "data": {
      "text/plain": [
       "Text(0, 0.5, 'y')"
      ]
     },
     "execution_count": 61,
     "metadata": {},
     "output_type": "execute_result"
    },
    {
     "data": {
      "image/png": "[encoded data removed]",
      "text/plain": [
       "<Figure size 640x480 with 1 Axes>"
      ]
     },
     "metadata": {},
     "output_type": "display_data"
    }
   ],
   "source": [
    "fig, ax = plt.subplots() # This generates us a named figure and axes\n",
    "ax.scatter(X, Y, label = 'Data') # We generate a scatterplot of the data on the axes.\n",
    "plt.xlabel('x')\n",
    "plt.ylabel('y')"
   ]
  },
  {
   "cell_type": "markdown",
   "metadata": {},
   "source": [
    "## Part c) Split the data into training and testing sets\n",
    "Split the data X and targets Y into training and testing sets using the function `train_test_split`. Set the proportion of the dataset to use as test data to 0.1."
   ]
  },
  {
   "cell_type": "code",
   "execution_count": 62,
   "metadata": {},
   "outputs": [],
   "source": [
    "# Write your answer here\n",
    "X_train, X_test, Y_train, Y_test = train_test_split(X, Y, test_size=0.1)"
   ]
  },
  {
   "cell_type": "markdown",
   "metadata": {},
   "source": [
    "## Part d) Instantiate and fit the estimator\n",
    "Import the estimator `LinearRegression` from `sklearn.linear_model` and instantiate it. No parameters are needed."
   ]
  },
  {
   "cell_type": "code",
   "execution_count": 63,
   "metadata": {},
   "outputs": [],
   "source": [
    "from sklearn.linear_model import LinearRegression"
   ]
  },
  {
   "cell_type": "markdown",
   "metadata": {},
   "source": [
    "We will need to reshape the data (but not the targets) before passing it to this model. "
   ]
  },
  {
   "cell_type": "markdown",
   "metadata": {},
   "source": [
    "Call the method `fit` with our training data to train the model"
   ]
  },
  {
   "cell_type": "code",
   "execution_count": 65,
   "metadata": {},
   "outputs": [],
   "source": [
    "# Write your answer here\n",
    "X_train = X_train.reshape(-1, 1)\n",
    "X_test = X_test.reshape(-1, 1)\n",
    "lr = LinearRegression()\n",
    "\n",
    "# We fit the model using our training data\n",
    "lr.fit(X_train, Y_train)\n",
    "\n",
    "# Finally, we generate predictions on the test data\n",
    "ypred_test=lr.predict(X_test)"
   ]
  },
  {
   "cell_type": "markdown",
   "metadata": {},
   "source": [
    "The coefficient(s) and intercept for the trained model ($a$ and $b$ in our case) are called `coef_` and `intercept_`. Are these what you would expect? Are they similar to the values of `a` and `b` that we used to generate the data?"
   ]
  },
  {
   "cell_type": "code",
   "execution_count": 66,
   "metadata": {},
   "outputs": [
    {
     "name": "stdout",
     "output_type": "stream",
     "text": [
      "Predictions: [ 0.09868152 14.82665505 -0.31042885 15.6448758  16.87220692 -1.53775998\n",
      " 12.98565836  9.91733054  6.23533716  7.2581131  13.59932392]\n",
      "Coefficients:\n",
      " [2.04555188]\n",
      "Intercept:\n",
      " -1.9468703548758857\n"
     ]
    }
   ],
   "source": [
    "# Look at coef_ and intercept_\n",
    "y_predictions = lr.predict(X_test)\n",
    "print('Predictions:', ypred_test)\n",
    "# get the coefficients and intercept\n",
    "print(\"Coefficients:\\n\", lr.coef_)\n",
    "print('Intercept:\\n', lr.intercept_)"
   ]
  },
  {
   "cell_type": "markdown",
   "metadata": {},
   "source": [
    "Using the values stored in `coef_` and `intercept_`, plot a line representing the fitted model on the same axes (`ax`) as before. Type `fig` to view the plot."
   ]
  },
  {
   "cell_type": "code",
   "execution_count": 67,
   "metadata": {},
   "outputs": [
    {
     "data": {
      "text/plain": [
       "<matplotlib.collections.PathCollection at 0x240dd740690>"
      ]
     },
     "execution_count": 67,
     "metadata": {},
     "output_type": "execute_result"
    },
    {
     "data": {
      "image/png": "[encoded data removed]",
      "text/plain": [
       "<Figure size 640x480 with 1 Axes>"
      ]
     },
     "metadata": {},
     "output_type": "display_data"
    }
   ],
   "source": [
    "# Write your answer here \n",
    "x_line = np.linspace(0,10,101)\n",
    "y_line = X*lr.coef_ + lr.intercept_\n",
    "plt.plot(x_line,y_line,color='red')\n",
    "plt.scatter(X, Y, label = 'Data') # We generate a scatterplot of the data on the axes."
   ]
  },
  {
   "cell_type": "markdown",
   "metadata": {},
   "source": [
    "Reshape the test data to have one column and then call `predict` on the regression model to get the predicted y values"
   ]
  },
  {
   "cell_type": "code",
   "execution_count": 72,
   "metadata": {},
   "outputs": [],
   "source": [
    "X_test = X_test.reshape(-1, 1)\n",
    "# Call predict on the regression model and assign the output to \n",
    "# a variable ypred\n",
    "Ypred_test=lr.predict(X_test)"
   ]
  },
  {
   "cell_type": "markdown",
   "metadata": {},
   "source": [
    "## (Optional) Part e) Calculating mean squared error\n",
    "The equation for the mean squared error is \n",
    "$$ MSE = \\frac{\\sum_{i = 1}^n (y_i - f(x_i))^2}{n} $$\n",
    "Write a function that takes in arrays for the target values `y` and the predicted values `pred` and returns the mean squared error."
   ]
  },
  {
   "cell_type": "code",
   "execution_count": 81,
   "metadata": {},
   "outputs": [
    {
     "name": "stdout",
     "output_type": "stream",
     "text": [
      "5.44795503997753\n"
     ]
    }
   ],
   "source": [
    "# Fill in the body of the function\n",
    "def MSE(y, pred):\n",
    "    sqsum = 0\n",
    "    for i in range(0,len(y)):\n",
    "        sqsum=sqsum+((y[i]-pred[i])*(y[i]-pred[i]))\n",
    "    return(sqsum/len(y))\n",
    "print(MSE(Y_test,Ypred_test))"
   ]
  },
  {
   "cell_type": "markdown",
   "metadata": {},
   "source": [
    "Check your function against the function `mean_squared_error` from `sklearn.metrics`"
   ]
  },
  {
   "cell_type": "code",
   "execution_count": 83,
   "metadata": {},
   "outputs": [
    {
     "data": {
      "text/plain": [
       "True"
      ]
     },
     "execution_count": 83,
     "metadata": {},
     "output_type": "execute_result"
    }
   ],
   "source": [
    "# Write your answer here\n",
    "from sklearn.metrics import mean_squared_error\n",
    "MSE(Y_test,Ypred_test) == mean_squared_error(Y_test, Ypred_test)"
   ]
  },
  {
   "cell_type": "markdown",
   "metadata": {},
   "source": [
    "## (Optional) Part f) Calculating R^2\n",
    "Recall from the lecture that $R^2$ is defined as\n",
    "\n",
    "$$R^2(y, \\hat{y})) = 1 - \\frac{\\sum_{i=1}^{n} (y_i - \\hat{y}_i)^2}{\\sum_{i=1}^{n} (y_i - \\bar{y})^2}$$\n",
    "\n",
    "This represents the proportion of the variance of y that is explained by the independent variables in the model. It is essentially a comparison of the fitted model with the mean of the target values ($\\bar{y}$). Implement your own function to calculate $R^2$ and then compare it with `r2_score` from `sklearn.metrics`"
   ]
  },
  {
   "cell_type": "code",
   "execution_count": null,
   "metadata": {},
   "outputs": [],
   "source": [
    "# Fill in the body of the function\n",
    "def rsq(y, pred):\n",
    "    pass\n",
    "    ##TODO###"
   ]
  },
  {
   "cell_type": "code",
   "execution_count": null,
   "metadata": {},
   "outputs": [],
   "source": [
    "# Compare with sklearn.metrics.r2_score\n",
    "##TODO###"
   ]
  },
  {
   "cell_type": "markdown",
   "metadata": {},
   "source": [
    "# 3. Using cross-validation for model selection\n",
    "\n",
    "In this section we will fit a series of classifiers with different parameter settings, and use k-fold cross validation to select the most appropriate parameter values. We will use a *decision tree* classifier. We will cover this classifier in more detail in future lectures. For now, all you need to know is that a decision tree has a parameter `max_depth` that says how many layers the tree may have. More layers means that the tree can divide up the feature space into finer classes, but this could come at the expense of overfitting."
   ]
  },
  {
   "cell_type": "markdown",
   "metadata": {},
   "source": [
    "## Part a) \n",
    "We first of all create an artificial dataset with 2000 samples, 10 features, and 4 classes."
   ]
  },
  {
   "cell_type": "code",
   "execution_count": null,
   "metadata": {},
   "outputs": [],
   "source": [
    "from sklearn.datasets import make_classification\n",
    "X, y = make_classification(n_samples = 2000, n_features = 10, n_classes=4, n_informative = 3, random_state=10)"
   ]
  },
  {
   "cell_type": "markdown",
   "metadata": {},
   "source": [
    "Use the function `train_test_split` to separate out 0.2 of your dataset. This will be kept aside as our held-out test set."
   ]
  },
  {
   "cell_type": "code",
   "execution_count": null,
   "metadata": {},
   "outputs": [],
   "source": [
    "# Write your answer here\n",
    "# Write your answer here. \n",
    "# Assign the splits to variables Xtr, Xtest, ytr, ytest\n",
    "# Xtr, Xtest, ytr, ytest = ###TODO###"
   ]
  },
  {
   "cell_type": "markdown",
   "metadata": {},
   "source": [
    "### Part b) Setting up k-fold cross validation\n",
    "We import the function `KFold` from `sklearn.model_selection`, and instantiate it with 10 folds."
   ]
  },
  {
   "cell_type": "code",
   "execution_count": null,
   "metadata": {},
   "outputs": [],
   "source": [
    "from sklearn.model_selection import KFold\n",
    "kf = KFold(n_splits=10, random_state=63, shuffle=True)"
   ]
  },
  {
   "cell_type": "markdown",
   "metadata": {},
   "source": [
    "### Part c) Running cross-validation for different parameter settings\n",
    "We import the decision tree classifier and run it over depths from 1 to `max_d`. For each depth we run cross-validation over the training set."
   ]
  },
  {
   "cell_type": "code",
   "execution_count": null,
   "metadata": {},
   "outputs": [],
   "source": [
    "from sklearn.tree import DecisionTreeClassifier\n",
    "max_d = 20\n",
    "#Set up variables to store training and validation accuracies. \n",
    "train_accuracies = [[] for _ in range(max_d)]\n",
    "val_accuracies = [[] for _ in range(max_d)]\n",
    "\n",
    "# Loop over depths\n",
    "for d in range(max_d):\n",
    "    #Instantiate the DecisionTreeClassifier here. Set the parameter max_depth to d+1\n",
    "    #We add 1 because d ranges from 0 to max_d-1, but we want depths from 1 to max_d\n",
    "    clf = DecisionTreeClassifier(max_depth=d+1)\n",
    "    \n",
    "    #Loop over cross-validation splits. Note that we perform cross validation on our training data Xtr.\n",
    "    #We keep our testing data Xtest aside\n",
    "    for train_index, val_index in kf.split(Xtr):\n",
    "        Xtrain, Xval = Xtr[train_index], Xtr[val_index]\n",
    "        ytrain, yval = ytr[train_index], ytr[val_index]\n",
    "        \n",
    "        #Fit the classifier on Xtrain and Ytrain\n",
    "        ###TODO###\n",
    "        \n",
    "        #Make predictions on Xtrain and assign to a variable pred_train\n",
    "        ###TODO###\n",
    "        \n",
    "        #Make predictions on Xval and assign to a variable pred_val\n",
    "        ###TODO###\n",
    "        \n",
    "        #Calculate the accuracy of the predictions on the training set and save in the variable train_accuracies\n",
    "        train_accuracies[d].append(accuracy_score(ytrain, pred_train))\n",
    "        \n",
    "        #Do the same for the predictions on the validation set\n",
    "        ###TODO###\n",
    "\n",
    "#Calculate the mean and standard deviation for each depth across splits \n",
    "train_accuracy_mean = np.mean(train_accuracies, axis=1)\n",
    "# Complete the lines and uncomment\n",
    "# train_accuracy_stdev = ###TODO###\n",
    "# val_accuracy_mean = ###TODO###\n",
    "# val_accuracy_stdev = ###TODO###\n",
    "\n",
    "# The arrays of means and standard deviation should have shape (max_d, ). The following will generate an error if not.\n",
    "assert(np.shape(train_accuracy_mean)==(max_d,))\n",
    "assert(np.shape(train_accuracy_stdev)==(max_d,))\n",
    "assert(np.shape(val_accuracy_mean)==(max_d,))\n",
    "assert(np.shape(val_accuracy_stdev)==(max_d,))"
   ]
  },
  {
   "attachments": {
    "image-2.png": {
     "image/png": "[encoded data removed]"
    }
   },
   "cell_type": "markdown",
   "metadata": {},
   "source": [
    "### Plotting results\n",
    "\n",
    "Plot the mean accuracy attained on the training set and on the validation set at each depth. Your figure should look something like the following:\n",
    "\n",
    "![image-2.png](attachment:image-2.png)\n",
    "\n",
    "What do you notice about these results? Which value of max_depth would you use for your held-out test set?"
   ]
  },
  {
   "cell_type": "code",
   "execution_count": null,
   "metadata": {},
   "outputs": [],
   "source": [
    "# Write code to plot your results here\n"
   ]
  },
  {
   "cell_type": "markdown",
   "metadata": {},
   "source": [
    "### Computing accuracy on the test set\n",
    "Based on your plotted results, decide on the best value of `max_depth` to use in your decision tree classifier. Instantiate a new classifier with your chosen value. Fit the model on the training data. Make a prediction on the held-out test data, and calculate the accuracy on the test data. Is the accuracy what you expected? If not, why not?\n"
   ]
  },
  {
   "cell_type": "code",
   "execution_count": null,
   "metadata": {},
   "outputs": [],
   "source": [
    "#Instantiate a new classifier with your chosen value of max_depth\n",
    "\n",
    "#Fit the classifier on the training data\n",
    "\n",
    "#Make a prediction on the test data\n",
    "\n",
    "#Calculate the accuracy on the test data\n"
   ]
  },
  {
   "cell_type": "code",
   "execution_count": null,
   "metadata": {},
   "outputs": [],
   "source": []
  }
 ],
 "metadata": {
  "kernelspec": {
   "display_name": "Python 3 (ipykernel)",
   "language": "python",
   "name": "python3"
  },
  "language_info": {
   "codemirror_mode": {
    "name": "ipython",
    "version": 3
   },
   "file_extension": ".py",
   "mimetype": "text/x-python",
   "name": "python",
   "nbconvert_exporter": "python",
   "pygments_lexer": "ipython3",
   "version": "3.11.5"
  },
  "vscode": {
   "interpreter": {
    "hash": "40d3a090f54c6569ab1632332b64b2c03c39dcf918b08424e98f38b5ae0af88f"
   }
  }
 },
 "nbformat": 4,
 "nbformat_minor": 2
}
